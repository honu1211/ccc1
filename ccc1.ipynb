{
 "cells": [
  {
   "cell_type": "code",
   "execution_count": 6,
   "id": "ce67e71f",
   "metadata": {},
   "outputs": [],
   "source": [
    "from __future__ import print_function, unicode_literals, absolute_import, division\n",
    "import sys\n",
    "import numpy as np\n",
    "import pandas as pd\n",
    "import matplotlib.pyplot as plt\n",
    "%matplotlib inline\n",
    "%config InlineBackend.figure_format = 'retina'"
   ]
  },
  {
   "cell_type": "code",
   "execution_count": null,
   "id": "3c79bbdb",
   "metadata": {},
   "outputs": [],
   "source": [
    "from helper import read_image, display"
   ]
  },
  {
   "cell_type": "code",
   "execution_count": null,
   "id": "c5ef5ad0",
   "metadata": {},
   "outputs": [],
   "source": [
    "# !pip install git+https://github.com/dwkim78/ASTRiDE"
   ]
  },
  {
   "cell_type": "code",
   "execution_count": null,
   "id": "49df47d3",
   "metadata": {},
   "outputs": [],
   "source": [
    "# !pip install circle-fit"
   ]
  },
  {
   "cell_type": "markdown",
   "id": "2bcb7fb6",
   "metadata": {},
   "source": [
    "Load Image"
   ]
  },
  {
   "cell_type": "code",
   "execution_count": 5,
   "id": "a1f12c31",
   "metadata": {},
   "outputs": [
    {
     "ename": "NameError",
     "evalue": "name 'read_image' is not defined",
     "output_type": "error",
     "traceback": [
      "\u001b[0;31m---------------------------------------------------------------------------\u001b[0m",
      "\u001b[0;31mNameError\u001b[0m                                 Traceback (most recent call last)",
      "Cell \u001b[0;32mIn[5], line 4\u001b[0m\n\u001b[1;32m      2\u001b[0m code \u001b[38;5;241m=\u001b[39m \u001b[38;5;241m102\u001b[39m\n\u001b[1;32m      3\u001b[0m fname \u001b[38;5;241m=\u001b[39m \u001b[38;5;124m'\u001b[39m\u001b[38;5;124mcoadds/GenericCamera\u001b[39m\u001b[38;5;132;01m%i\u001b[39;00m\u001b[38;5;124m-20230309-images1352-1512-coadd.fits\u001b[39m\u001b[38;5;124m'\u001b[39m\u001b[38;5;241m%\u001b[39mcode\n\u001b[0;32m----> 4\u001b[0m img \u001b[38;5;241m=\u001b[39m \u001b[43mread_image\u001b[49m(fname)\n",
      "\u001b[0;31mNameError\u001b[0m: name 'read_image' is not defined"
     ]
    }
   ],
   "source": [
    "# Load Image\n",
    "code = 102\n",
    "fname = 'coadds/GenericCamera%i-20230309-images1352-1512-coadd.fits'%code\n",
    "img = read_image(fname)"
   ]
  },
  {
   "cell_type": "markdown",
   "id": "677fd0fd",
   "metadata": {},
   "source": [
    "Star Trail Arcs Selection\n",
    "I choose the biggest arcs. The selection is perfomed by taking the largest perimeters."
   ]
  },
  {
   "cell_type": "code",
   "execution_count": null,
   "id": "a762cd7b",
   "metadata": {},
   "outputs": [],
   "source": [
    "# Import the ASTRiDE library.\n",
    "from astride import Streak\n",
    "\n",
    "# Read a fits image and create a Streak instance.\n",
    "streak = Streak(fname, contour_threshold=1.5, area_cut=25, radius_dev_cut=0.5,remove_bkg='map', output_path='./')\n",
    "\n",
    "# streak.raw_image = img\n",
    "\n",
    "# Detect streaks.\n",
    "streak.detect()"
   ]
  }
 ],
 "metadata": {
  "kernelspec": {
   "display_name": "Python 3 (ipykernel)",
   "language": "python",
   "name": "python3"
  },
  "language_info": {
   "codemirror_mode": {
    "name": "ipython",
    "version": 3
   },
   "file_extension": ".py",
   "mimetype": "text/x-python",
   "name": "python",
   "nbconvert_exporter": "python",
   "pygments_lexer": "ipython3",
   "version": "3.8.5"
  }
 },
 "nbformat": 4,
 "nbformat_minor": 5
}
